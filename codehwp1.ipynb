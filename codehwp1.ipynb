{
 "cells": [
  {
   "cell_type": "code",
   "execution_count": 1,
   "id": "e596821b-d8a9-4082-a997-ddb4b9dbfbac",
   "metadata": {},
   "outputs": [],
   "source": [
    "import ll  # self-implement tensor computer pkg"
   ]
  },
  {
   "cell_type": "code",
   "execution_count": 2,
   "id": "91498e65-82c7-4d21-8bbd-709c14ec9597",
   "metadata": {},
   "outputs": [],
   "source": [
    "import numpy as np"
   ]
  },
  {
   "cell_type": "code",
   "execution_count": 3,
   "id": "901d80cf-8c2e-4d0a-9cd5-93af8513e3e7",
   "metadata": {},
   "outputs": [],
   "source": [
    "X = np.arange(24, dtype=np.float32).reshape((3, 4, 2))"
   ]
  },
  {
   "cell_type": "code",
   "execution_count": 4,
   "id": "4845e2d4-bd9c-4906-8d8b-c049d162fc46",
   "metadata": {},
   "outputs": [],
   "source": [
    "weights, factors, recErrors = ll.llDecomposition.CP(X, rank=2)"
   ]
  },
  {
   "cell_type": "code",
   "execution_count": 5,
   "id": "06ddbe35-4eec-4acd-a684-72d05e1823d1",
   "metadata": {},
   "outputs": [
    {
     "data": {
      "text/plain": [
       "array([[[ 0.03120422,  0.9645672 ],\n",
       "        [ 2.0059872 ,  2.992508  ],\n",
       "        [ 3.9807682 ,  5.020447  ],\n",
       "        [ 5.955551  ,  7.0483856 ]],\n",
       "\n",
       "       [[ 8.047189  ,  8.954213  ],\n",
       "        [10.01729   , 10.983236  ],\n",
       "        [11.987391  , 13.012256  ],\n",
       "        [13.957494  , 15.041277  ]],\n",
       "\n",
       "       [[16.063198  , 16.943878  ],\n",
       "        [18.028605  , 18.973969  ],\n",
       "        [19.99401   , 21.004053  ],\n",
       "        [21.959423  , 23.034143  ]]], dtype=float32)"
      ]
     },
     "execution_count": 5,
     "metadata": {},
     "output_type": "execute_result"
    }
   ],
   "source": [
    "ll.llDecomposition.recTensor(weights, factors)"
   ]
  },
  {
   "cell_type": "code",
   "execution_count": 7,
   "id": "55fefe4d-d92b-44cb-99c5-827bf2508874",
   "metadata": {},
   "outputs": [
    {
     "data": {
      "text/plain": [
       "dict_keys(['__header__', '__version__', '__globals__', 'A'])"
      ]
     },
     "execution_count": 7,
     "metadata": {},
     "output_type": "execute_result"
    }
   ],
   "source": [
    "from scipy.io import loadmat\n",
    "annots = loadmat('cp_fc_layer.mat')\n",
    "annots.keys()"
   ]
  },
  {
   "cell_type": "code",
   "execution_count": 8,
   "id": "d3a9e7a4-60ff-4f1d-b4f7-71c1a77d8db6",
   "metadata": {},
   "outputs": [],
   "source": [
    "def innerProduct(t1, t2):\n",
    "    if list(t1.shape) != list(t2.shape):\n",
    "        raise ValueError(\n",
    "            \"Tensors' shapes are not aligned: t1.shape({0}) != t2.shape({1})\".format(\n",
    "                t1.shape,\n",
    "                t2.shape,\n",
    "            )\n",
    "        )\n",
    "    return np.sum(t1 * t2)\n",
    "\n",
    "\n",
    "def FrobeniusNorm(t1, t2):\n",
    "    return np.sqrt(innerProduct(t1, t2))"
   ]
  },
  {
   "cell_type": "code",
   "execution_count": 11,
   "id": "346105bb-7612-4225-a19a-35a3454991d7",
   "metadata": {},
   "outputs": [
    {
     "name": "stdout",
     "output_type": "stream",
     "text": [
      "PARAFAC converged after 20 iterations\n",
      "PARAFAC converged after 15 iterations\n",
      "PARAFAC converged after 27 iterations\n",
      "PARAFAC converged after 18 iterations\n",
      "PARAFAC converged after 9 iterations\n",
      "PARAFAC converged after 13 iterations\n",
      "PARAFAC converged after 17 iterations\n",
      "PARAFAC converged after 16 iterations\n",
      "PARAFAC converged after 12 iterations\n",
      "PARAFAC converged after 18 iterations\n",
      "PARAFAC converged after 14 iterations\n",
      "PARAFAC converged after 20 iterations\n",
      "PARAFAC converged after 14 iterations\n",
      "PARAFAC converged after 15 iterations\n",
      "PARAFAC converged after 22 iterations\n",
      "PARAFAC converged after 11 iterations\n",
      "PARAFAC converged after 12 iterations\n",
      "PARAFAC converged after 13 iterations\n",
      "PARAFAC converged after 11 iterations\n",
      "PARAFAC converged after 13 iterations\n",
      "PARAFAC converged after 13 iterations\n",
      "PARAFAC converged after 11 iterations\n",
      "PARAFAC converged after 12 iterations\n",
      "PARAFAC converged after 11 iterations\n",
      "PARAFAC converged after 10 iterations\n",
      "PARAFAC converged after 9 iterations\n",
      "PARAFAC converged after 16 iterations\n",
      "PARAFAC converged after 12 iterations\n",
      "PARAFAC converged after 10 iterations\n",
      "PARAFAC converged after 11 iterations\n",
      "PARAFAC converged after 11 iterations\n"
     ]
    },
    {
     "data": {
      "text/plain": [
       "[<matplotlib.lines.Line2D at 0x7f812faec760>]"
      ]
     },
     "execution_count": 11,
     "metadata": {},
     "output_type": "execute_result"
    },
    {
     "data": {
      "image/png": "[encoded data removed]",
      "text/plain": [
       "<Figure size 432x288 with 1 Axes>"
      ]
     },
     "metadata": {
      "needs_background": "light"
     },
     "output_type": "display_data"
    }
   ],
   "source": [
    "import matplotlib.pyplot as plot\n",
    "Rs = list(range(20, 50 + 1))\n",
    "FNs = []\n",
    "for R in Rs:\n",
    "    weights, factors, recErrors = ll.llDecomposition.CP(annots['A'], rank=R)\n",
    "    reA = ll.llDecomposition.recTensor(weights, factors)\n",
    "    FNs.append(FrobeniusNorm(annots['A'], reA))\n",
    "plot.plot(Rs, FNs)"
   ]
  },
  {
   "cell_type": "code",
   "execution_count": null,
   "id": "b52537ea-213e-45f4-a8ba-bb7ed1c5f7ea",
   "metadata": {},
   "outputs": [],
   "source": []
  }
 ],
 "metadata": {
  "kernelspec": {
   "display_name": "torch3d",
   "language": "python",
   "name": "torch3d"
  },
  "language_info": {
   "codemirror_mode": {
    "name": "ipython",
    "version": 3
   },
   "file_extension": ".py",
   "mimetype": "text/x-python",
   "name": "python",
   "nbconvert_exporter": "python",
   "pygments_lexer": "ipython3",
   "version": "3.9.13"
  }
 },
 "nbformat": 4,
 "nbformat_minor": 5
}
