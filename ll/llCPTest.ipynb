{
 "cells": [
  {
   "cell_type": "code",
   "execution_count": 1,
   "id": "822f4595-f6e2-4c21-806e-97bd1bf0a64f",
   "metadata": {},
   "outputs": [],
   "source": [
    "import numpy as np"
   ]
  },
  {
   "cell_type": "code",
   "execution_count": 2,
   "id": "1564da63-8301-4568-a278-3da53c99c0fa",
   "metadata": {},
   "outputs": [],
   "source": [
    "import llDecomposition as ll"
   ]
  },
  {
   "cell_type": "code",
   "execution_count": 3,
   "id": "92e51803-2ebf-4d81-85b2-71cefd6218f3",
   "metadata": {},
   "outputs": [],
   "source": [
    "X = np.arange(24, dtype=np.float32).reshape((3, 4, 2))"
   ]
  },
  {
   "cell_type": "code",
   "execution_count": 4,
   "id": "7ccdb690-bad9-4f11-b92b-4e3c1d293ab1",
   "metadata": {},
   "outputs": [
    {
     "data": {
      "text/plain": [
       "array([[[ 0.,  1.],\n",
       "        [ 2.,  3.],\n",
       "        [ 4.,  5.],\n",
       "        [ 6.,  7.]],\n",
       "\n",
       "       [[ 8.,  9.],\n",
       "        [10., 11.],\n",
       "        [12., 13.],\n",
       "        [14., 15.]],\n",
       "\n",
       "       [[16., 17.],\n",
       "        [18., 19.],\n",
       "        [20., 21.],\n",
       "        [22., 23.]]], dtype=float32)"
      ]
     },
     "execution_count": 4,
     "metadata": {},
     "output_type": "execute_result"
    }
   ],
   "source": [
    "X"
   ]
  },
  {
   "cell_type": "code",
   "execution_count": 5,
   "id": "99fe186c-25cf-4836-8b21-3bbbd38732cc",
   "metadata": {},
   "outputs": [
    {
     "name": "stdout",
     "output_type": "stream",
     "text": [
      "PARAFAC converged after 782 iterations\n"
     ]
    }
   ],
   "source": [
    "weights, factors, recErrors = ll.CP(X, rank=2)"
   ]
  },
  {
   "cell_type": "code",
   "execution_count": 6,
   "id": "399d0f0b-c9a7-42f4-af65-261f96e2c7e6",
   "metadata": {},
   "outputs": [
    {
     "data": {
      "text/plain": [
       "array([[[-1.19934082e-02,  1.01060867e+00],\n",
       "        [ 1.99447918e+00,  3.00507164e+00],\n",
       "        [ 4.00095272e+00,  4.99953175e+00],\n",
       "        [ 6.00742054e+00,  6.99398994e+00]],\n",
       "\n",
       "       [[ 8.01367188e+00,  8.98669815e+00],\n",
       "        [ 1.00049381e+01,  1.09952078e+01],\n",
       "        [ 1.19962063e+01,  1.30037155e+01],\n",
       "        [ 1.39874725e+01,  1.50122242e+01]],\n",
       "\n",
       "       [[ 1.60393162e+01,  1.69627743e+01],\n",
       "        [ 1.80153885e+01,  1.89853401e+01],\n",
       "        [ 1.99914627e+01,  2.10079079e+01],\n",
       "        [ 2.19675388e+01,  2.30304794e+01]]], dtype=float32)"
      ]
     },
     "execution_count": 6,
     "metadata": {},
     "output_type": "execute_result"
    }
   ],
   "source": [
    "ll.recTensor(weights, factors)"
   ]
  },
  {
   "cell_type": "code",
   "execution_count": null,
   "id": "e8b89667-14b0-4fb8-97bf-0d535d5f92c0",
   "metadata": {},
   "outputs": [],
   "source": []
  },
  {
   "cell_type": "code",
   "execution_count": null,
   "id": "583ce9c5-7401-481f-9bf5-bfacc9bef7e2",
   "metadata": {},
   "outputs": [],
   "source": []
  }
 ],
 "metadata": {
  "kernelspec": {
   "display_name": "torch3d",
   "language": "python",
   "name": "torch3d"
  },
  "language_info": {
   "codemirror_mode": {
    "name": "ipython",
    "version": 3
   },
   "file_extension": ".py",
   "mimetype": "text/x-python",
   "name": "python",
   "nbconvert_exporter": "python",
   "pygments_lexer": "ipython3",
   "version": "3.9.13"
  }
 },
 "nbformat": 4,
 "nbformat_minor": 5
}
